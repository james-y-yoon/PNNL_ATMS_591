{
 "cells": [
  {
   "cell_type": "markdown",
   "metadata": {},
   "source": [
    "In this exercise, we will learn how to analyze SOA yield experimental data."
   ]
  },
  {
   "cell_type": "markdown",
   "metadata": {},
   "source": [
    "Step 0: load needed packages and define useful functions"
   ]
  },
  {
   "cell_type": "code",
   "execution_count": null,
   "metadata": {},
   "outputs": [],
   "source": [
    "import os, sys, glob\n",
    "import pandas as pd\n",
    "import numpy as np\n",
    "import matplotlib.pyplot as plt\n",
    "from scipy.optimize import curve_fit\n",
    "from scipy.optimize import fsolve"
   ]
  },
  {
   "cell_type": "code",
   "execution_count": null,
   "metadata": {},
   "outputs": [],
   "source": [
    "#Define function for fitting yield data\n",
    "#This form uses the VBS paramaterization. We are assuming that there is no pre-existing organic mass\n",
    "def Yield_Param(M, a1, a2, a3, a4):\n",
    "    C1 = 0.1\n",
    "    C2 = 1\n",
    "    C3 = 10\n",
    "    C4 = 100\n",
    "    \n",
    "    Y = (a1/(1+(C1/M))) + (a2/(1+(C2/M))) + (a3/(1+(C3/M))) + (a4/(1+(C4/M)))\n",
    "    return Y"
   ]
  },
  {
   "cell_type": "markdown",
   "metadata": {},
   "source": [
    "Step 1: Load the data and convert to np 1-D arrays to facilitate analysis"
   ]
  },
  {
   "cell_type": "code",
   "execution_count": null,
   "metadata": {},
   "outputs": [],
   "source": [
    "file = (\"FILEPATH\\Yield_Data.xlsx\")"
   ]
  },
  {
   "cell_type": "code",
   "execution_count": null,
   "metadata": {},
   "outputs": [],
   "source": [
    "df_Yield = pd.read_excel(file)"
   ]
  },
  {
   "cell_type": "code",
   "execution_count": null,
   "metadata": {},
   "outputs": [],
   "source": [
    "df_Yield"
   ]
  },
  {
   "cell_type": "code",
   "execution_count": null,
   "metadata": {},
   "outputs": [],
   "source": [
    "dM_Exp1 = df_Yield[\"dM_Exp1\"].to_numpy()"
   ]
  },
  {
   "cell_type": "code",
   "execution_count": null,
   "metadata": {},
   "outputs": [],
   "source": [
    "dHc_Exp1 = df_Yield[\"dHc_Exp1\"].to_numpy()"
   ]
  },
  {
   "cell_type": "markdown",
   "metadata": {},
   "source": [
    "Step 2:  Calculate Yield and Plot data.\n",
    "Start with data from one experiment. "
   ]
  },
  {
   "cell_type": "code",
   "execution_count": null,
   "metadata": {},
   "outputs": [],
   "source": [
    "Y_Exp1 = dM_Exp1/dHc_Exp1"
   ]
  },
  {
   "cell_type": "code",
   "execution_count": null,
   "metadata": {},
   "outputs": [],
   "source": [
    "#Traditionally, we plot Yield vs M\n",
    "plt.plot(dM_Exp1, Y_Exp1, 'or', label = 'Exp 1')\n",
    "plt.xlabel(\"Loading (ug/m3)\")\n",
    "plt.ylabel(\"Yield\")\n",
    "plt.legend(loc = 'upper left')"
   ]
  },
  {
   "cell_type": "markdown",
   "metadata": {},
   "source": [
    "Step 3: Fit data and plot data and fit results"
   ]
  },
  {
   "cell_type": "code",
   "execution_count": null,
   "metadata": {},
   "outputs": [],
   "source": [
    "initial_guess = [.001, .01, .1, .3]"
   ]
  },
  {
   "cell_type": "code",
   "execution_count": null,
   "metadata": {},
   "outputs": [],
   "source": [
    "#We will constrain the alpha value solutions to 0 - 1. These are the values that have physical meaning.\n",
    "params, cov = curve_fit(Yield_Param, dM_Exp1, Y_Exp1, p0 = initial_guess, bounds = (0, [1, 1, 1, 1]))"
   ]
  },
  {
   "cell_type": "code",
   "execution_count": null,
   "metadata": {},
   "outputs": [],
   "source": [
    "params"
   ]
  },
  {
   "cell_type": "code",
   "execution_count": null,
   "metadata": {},
   "outputs": [],
   "source": [
    "Y_fit_Exp1 = Yield_Param(dM_Exp1, params[0], params[1], params[2], params[3])"
   ]
  },
  {
   "cell_type": "code",
   "execution_count": null,
   "metadata": {},
   "outputs": [],
   "source": [
    "plt.plot(dM_Exp1, Y_Exp1, 'or', label='Exp 1')\n",
    "plt.plot(dM_Exp1, Y_fit_Exp1, '-b', label = 'Exp 1 Fit')\n",
    "plt.xlabel(\"Loading (ug/m3)\")\n",
    "plt.ylabel(\"Yield\")\n",
    "plt.legend(loc= 'upper left')"
   ]
  },
  {
   "cell_type": "markdown",
   "metadata": {},
   "source": [
    "Step 5: Try different initial guesses for the alpha values. Are the fitting coefficients sensitive to the initial guess? "
   ]
  },
  {
   "cell_type": "markdown",
   "metadata": {},
   "source": [
    "Step 6: Fit other experimental data and compare the alpha values extracted. Combine all experimental data and fit. How do the values of alpha change?  What does this mean about the physical interpretation of the alpha values? "
   ]
  }
 ],
 "metadata": {
  "kernelspec": {
   "display_name": "Python 3",
   "language": "python",
   "name": "python3"
  },
  "language_info": {
   "codemirror_mode": {
    "name": "ipython",
    "version": 3
   },
   "file_extension": ".py",
   "mimetype": "text/x-python",
   "name": "python",
   "nbconvert_exporter": "python",
   "pygments_lexer": "ipython3",
   "version": "3.8.5"
  }
 },
 "nbformat": 4,
 "nbformat_minor": 4
}
